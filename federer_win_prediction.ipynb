{
 "cells": [
  {
   "cell_type": "code",
   "execution_count": 16,
   "metadata": {
    "ExecuteTime": {
     "end_time": "2017-03-01T00:07:59.025668",
     "start_time": "2017-03-01T00:07:59.019219"
    },
    "collapsed": true
   },
   "outputs": [],
   "source": [
    "from __future__ import division\n",
    "import pandas as pd\n",
    "import time\n",
    "import numpy as np\n",
    "from sklearn.linear_model import LogisticRegression\n",
    "from sklearn.model_selection import train_test_split, GridSearchCV\n",
    "from sklearn.ensemble import RandomForestClassifier\n",
    "from sklearn.svm import SVC\n",
    "\n",
    "from xgboost.sklearn import XGBClassifier"
   ]
  },
  {
   "cell_type": "markdown",
   "metadata": {},
   "source": [
    "# Roger Federer Win Prediction\n",
    "\n",
    "![title](fed.jpg)\n",
    "\n",
    "## Introduction\n",
    "Roger Federer is arguably one of the greatest tennis players of all time. Over his career, he has accumulated more than 1000 wins. \n",
    "This year, Federer is returning to professional tennis after suffering a back injury last year. \n",
    "Despite winning the first grand slam of the year, the Australian Open, people still question if he will be able to continue to make a major impact.\n",
    "My goal with this project is to create a classifier to predict whether or not Roger Federer will win a given match as the match progresses. \n",
    "To do so, I will focus on percentages measuring levels of efficiency in various areas of the game.\n",
    "\n",
    "## Gathering the Data (Already Executed)\n",
    "The ATP (Association of Tennis Professionals) reports most of the major statistics for professional tennis matches. I wanted to get as many statistics as possible for all of Roger Federer's matches. Here are the steps I followed:\n",
    "1. I downloaded federer.htm by manually saving the html from http://www.atpworldtour.com/players/roger-federer/f324/player-activity?year=all\n",
    "    - This website contains the match scores for all of Roger Federer's professional matches. When you click on the final score of the match, you are taking to a new page that contains all of the match-specific statistics.\n",
    "- I wrote a script, `tennis.py`, that scrapes all 1200+ matches and the associated stats. The final output of this script is the group of files, `match_overview.pkl`, `federer.pkl`, and `opponent.pkl`. An explanation for my scraping methods are addressed in the `tennis.py` script.\n",
    "- This notebook begins with the cleaning of these pickled files.\n",
    "- __NOTE__: for cleanliness, the contents of `tennis.py` are not contained in this notebook. The script, along with full annotations, is included with this notebook."
   ]
  },
  {
   "cell_type": "markdown",
   "metadata": {},
   "source": [
    "## Cleaning the Data"
   ]
  },
  {
   "cell_type": "code",
   "execution_count": 3,
   "metadata": {
    "ExecuteTime": {
     "end_time": "2017-03-01T00:03:36.622903",
     "start_time": "2017-03-01T00:03:36.604338"
    }
   },
   "outputs": [],
   "source": [
    "match = pd.read_pickle(\"match_overview.pkl\")\n",
    "roger = pd.read_pickle(\"roger.pkl\")\n",
    "opp = pd.read_pickle(\"opponent.pkl\")"
   ]
  },
  {
   "cell_type": "markdown",
   "metadata": {},
   "source": [
    "### A quick glimpse at the data as is"
   ]
  },
  {
   "cell_type": "code",
   "execution_count": 4,
   "metadata": {
    "ExecuteTime": {
     "end_time": "2017-03-01T00:03:37.425239",
     "start_time": "2017-03-01T00:03:37.404991"
    }
   },
   "outputs": [
    {
     "data": {
      "text/html": [
       "<div>\n",
       "<table border=\"1\" class=\"dataframe\">\n",
       "  <thead>\n",
       "    <tr style=\"text-align: right;\">\n",
       "      <th></th>\n",
       "      <th>MatchID</th>\n",
       "      <th>TourneyDate</th>\n",
       "      <th>Opp</th>\n",
       "      <th>Rank</th>\n",
       "      <th>Round</th>\n",
       "      <th>Result</th>\n",
       "      <th>Score</th>\n",
       "    </tr>\n",
       "  </thead>\n",
       "  <tbody>\n",
       "    <tr>\n",
       "      <th>0</th>\n",
       "      <td>0</td>\n",
       "      <td>2017.01.16 - 2017.01.29</td>\n",
       "      <td>Rafael Nadal</td>\n",
       "      <td>9</td>\n",
       "      <td>Finals</td>\n",
       "      <td>W</td>\n",
       "      <td>64 36 61 36 63</td>\n",
       "    </tr>\n",
       "    <tr>\n",
       "      <th>1</th>\n",
       "      <td>2</td>\n",
       "      <td>2017.01.16 - 2017.01.29</td>\n",
       "      <td>Stan Wawrinka</td>\n",
       "      <td>4</td>\n",
       "      <td>Semi-Finals</td>\n",
       "      <td>W</td>\n",
       "      <td>75 63 16 46 63</td>\n",
       "    </tr>\n",
       "    <tr>\n",
       "      <th>2</th>\n",
       "      <td>5</td>\n",
       "      <td>2017.01.16 - 2017.01.29</td>\n",
       "      <td>Mischa Zverev</td>\n",
       "      <td>50</td>\n",
       "      <td>Quarter-Finals</td>\n",
       "      <td>W</td>\n",
       "      <td>61 75 62</td>\n",
       "    </tr>\n",
       "    <tr>\n",
       "      <th>3</th>\n",
       "      <td>9</td>\n",
       "      <td>2017.01.16 - 2017.01.29</td>\n",
       "      <td>Kei Nishikori</td>\n",
       "      <td>5</td>\n",
       "      <td>Round of 16</td>\n",
       "      <td>W</td>\n",
       "      <td>674 64 61 46 63</td>\n",
       "    </tr>\n",
       "    <tr>\n",
       "      <th>4</th>\n",
       "      <td>14</td>\n",
       "      <td>2017.01.16 - 2017.01.29</td>\n",
       "      <td>Tomas Berdych</td>\n",
       "      <td>10</td>\n",
       "      <td>Round of 32</td>\n",
       "      <td>W</td>\n",
       "      <td>62 64 64</td>\n",
       "    </tr>\n",
       "  </tbody>\n",
       "</table>\n",
       "</div>"
      ],
      "text/plain": [
       "   MatchID              TourneyDate            Opp  Rank           Round  \\\n",
       "0        0  2017.01.16 - 2017.01.29   Rafael Nadal     9          Finals   \n",
       "1        2  2017.01.16 - 2017.01.29  Stan Wawrinka     4     Semi-Finals   \n",
       "2        5  2017.01.16 - 2017.01.29  Mischa Zverev    50  Quarter-Finals   \n",
       "3        9  2017.01.16 - 2017.01.29  Kei Nishikori     5     Round of 16   \n",
       "4       14  2017.01.16 - 2017.01.29  Tomas Berdych    10     Round of 32   \n",
       "\n",
       "  Result            Score  \n",
       "0      W   64 36 61 36 63  \n",
       "1      W   75 63 16 46 63  \n",
       "2      W         61 75 62  \n",
       "3      W  674 64 61 46 63  \n",
       "4      W         62 64 64  "
      ]
     },
     "execution_count": 4,
     "metadata": {},
     "output_type": "execute_result"
    }
   ],
   "source": [
    "match.head()"
   ]
  },
  {
   "cell_type": "code",
   "execution_count": 5,
   "metadata": {
    "ExecuteTime": {
     "end_time": "2017-03-01T00:03:38.246655",
     "start_time": "2017-03-01T00:03:38.206241"
    }
   },
   "outputs": [
    {
     "data": {
      "text/html": [
       "<div>\n",
       "<table border=\"1\" class=\"dataframe\">\n",
       "  <thead>\n",
       "    <tr style=\"text-align: right;\">\n",
       "      <th></th>\n",
       "      <th>MatchID</th>\n",
       "      <th>Aces</th>\n",
       "      <th>AcesPercentage</th>\n",
       "      <th>BreakPointsConvertedDividend</th>\n",
       "      <th>BreakPointsConvertedDivisor</th>\n",
       "      <th>BreakPointsConvertedPercentage</th>\n",
       "      <th>BreakPointsSavedDividend</th>\n",
       "      <th>BreakPointsSavedDivisor</th>\n",
       "      <th>BreakPointsSavedPercentage</th>\n",
       "      <th>DoubleFaults</th>\n",
       "      <th>...</th>\n",
       "      <th>Time</th>\n",
       "      <th>TotalPointsWonDividend</th>\n",
       "      <th>TotalPointsWonDivisor</th>\n",
       "      <th>TotalPointsWonPercentage</th>\n",
       "      <th>TotalReturnPointsWonDividend</th>\n",
       "      <th>TotalReturnPointsWonDivisor</th>\n",
       "      <th>TotalReturnPointsWonPercentage</th>\n",
       "      <th>TotalServicePointsWonDividend</th>\n",
       "      <th>TotalServicePointsWonDivisor</th>\n",
       "      <th>TotalServicePointsWonPercentage</th>\n",
       "    </tr>\n",
       "  </thead>\n",
       "  <tbody>\n",
       "    <tr>\n",
       "      <th>0</th>\n",
       "      <td>0</td>\n",
       "      <td>20</td>\n",
       "      <td>83.3333</td>\n",
       "      <td>6</td>\n",
       "      <td>20</td>\n",
       "      <td>30</td>\n",
       "      <td>13</td>\n",
       "      <td>17</td>\n",
       "      <td>76</td>\n",
       "      <td>3</td>\n",
       "      <td>...</td>\n",
       "      <td>00:00:00</td>\n",
       "      <td>150</td>\n",
       "      <td>289</td>\n",
       "      <td>52</td>\n",
       "      <td>59</td>\n",
       "      <td>151</td>\n",
       "      <td>39</td>\n",
       "      <td>91</td>\n",
       "      <td>138</td>\n",
       "      <td>66</td>\n",
       "    </tr>\n",
       "    <tr>\n",
       "      <th>1</th>\n",
       "      <td>2</td>\n",
       "      <td>11</td>\n",
       "      <td>52.381</td>\n",
       "      <td>4</td>\n",
       "      <td>9</td>\n",
       "      <td>44</td>\n",
       "      <td>8</td>\n",
       "      <td>12</td>\n",
       "      <td>67</td>\n",
       "      <td>3</td>\n",
       "      <td>...</td>\n",
       "      <td>00:00:00</td>\n",
       "      <td>142</td>\n",
       "      <td>278</td>\n",
       "      <td>51</td>\n",
       "      <td>47</td>\n",
       "      <td>135</td>\n",
       "      <td>35</td>\n",
       "      <td>95</td>\n",
       "      <td>143</td>\n",
       "      <td>66</td>\n",
       "    </tr>\n",
       "    <tr>\n",
       "      <th>2</th>\n",
       "      <td>5</td>\n",
       "      <td>9</td>\n",
       "      <td>64.2857</td>\n",
       "      <td>6</td>\n",
       "      <td>15</td>\n",
       "      <td>40</td>\n",
       "      <td>1</td>\n",
       "      <td>2</td>\n",
       "      <td>50</td>\n",
       "      <td>1</td>\n",
       "      <td>...</td>\n",
       "      <td>00:00:00</td>\n",
       "      <td>100</td>\n",
       "      <td>176</td>\n",
       "      <td>57</td>\n",
       "      <td>46</td>\n",
       "      <td>97</td>\n",
       "      <td>47</td>\n",
       "      <td>54</td>\n",
       "      <td>79</td>\n",
       "      <td>68</td>\n",
       "    </tr>\n",
       "    <tr>\n",
       "      <th>3</th>\n",
       "      <td>9</td>\n",
       "      <td>24</td>\n",
       "      <td>85.7143</td>\n",
       "      <td>7</td>\n",
       "      <td>18</td>\n",
       "      <td>39</td>\n",
       "      <td>6</td>\n",
       "      <td>9</td>\n",
       "      <td>67</td>\n",
       "      <td>6</td>\n",
       "      <td>...</td>\n",
       "      <td>00:00:00</td>\n",
       "      <td>169</td>\n",
       "      <td>310</td>\n",
       "      <td>55</td>\n",
       "      <td>67</td>\n",
       "      <td>164</td>\n",
       "      <td>41</td>\n",
       "      <td>102</td>\n",
       "      <td>146</td>\n",
       "      <td>70</td>\n",
       "    </tr>\n",
       "    <tr>\n",
       "      <th>4</th>\n",
       "      <td>14</td>\n",
       "      <td>8</td>\n",
       "      <td>40</td>\n",
       "      <td>4</td>\n",
       "      <td>5</td>\n",
       "      <td>80</td>\n",
       "      <td>0</td>\n",
       "      <td>0</td>\n",
       "      <td>0</td>\n",
       "      <td>2</td>\n",
       "      <td>...</td>\n",
       "      <td>00:00:00</td>\n",
       "      <td>85</td>\n",
       "      <td>151</td>\n",
       "      <td>56</td>\n",
       "      <td>29</td>\n",
       "      <td>81</td>\n",
       "      <td>36</td>\n",
       "      <td>56</td>\n",
       "      <td>70</td>\n",
       "      <td>80</td>\n",
       "    </tr>\n",
       "  </tbody>\n",
       "</table>\n",
       "<p>5 rows × 41 columns</p>\n",
       "</div>"
      ],
      "text/plain": [
       "   MatchID  Aces AcesPercentage  BreakPointsConvertedDividend  \\\n",
       "0        0    20        83.3333                             6   \n",
       "1        2    11         52.381                             4   \n",
       "2        5     9        64.2857                             6   \n",
       "3        9    24        85.7143                             7   \n",
       "4       14     8             40                             4   \n",
       "\n",
       "   BreakPointsConvertedDivisor  BreakPointsConvertedPercentage  \\\n",
       "0                           20                              30   \n",
       "1                            9                              44   \n",
       "2                           15                              40   \n",
       "3                           18                              39   \n",
       "4                            5                              80   \n",
       "\n",
       "   BreakPointsSavedDividend  BreakPointsSavedDivisor  \\\n",
       "0                        13                       17   \n",
       "1                         8                       12   \n",
       "2                         1                        2   \n",
       "3                         6                        9   \n",
       "4                         0                        0   \n",
       "\n",
       "   BreakPointsSavedPercentage  DoubleFaults               ...                 \\\n",
       "0                          76             3               ...                  \n",
       "1                          67             3               ...                  \n",
       "2                          50             1               ...                  \n",
       "3                          67             6               ...                  \n",
       "4                           0             2               ...                  \n",
       "\n",
       "       Time  TotalPointsWonDividend  TotalPointsWonDivisor  \\\n",
       "0  00:00:00                     150                    289   \n",
       "1  00:00:00                     142                    278   \n",
       "2  00:00:00                     100                    176   \n",
       "3  00:00:00                     169                    310   \n",
       "4  00:00:00                      85                    151   \n",
       "\n",
       "   TotalPointsWonPercentage  TotalReturnPointsWonDividend  \\\n",
       "0                        52                            59   \n",
       "1                        51                            47   \n",
       "2                        57                            46   \n",
       "3                        55                            67   \n",
       "4                        56                            29   \n",
       "\n",
       "   TotalReturnPointsWonDivisor  TotalReturnPointsWonPercentage  \\\n",
       "0                          151                              39   \n",
       "1                          135                              35   \n",
       "2                           97                              47   \n",
       "3                          164                              41   \n",
       "4                           81                              36   \n",
       "\n",
       "   TotalServicePointsWonDividend  TotalServicePointsWonDivisor  \\\n",
       "0                             91                           138   \n",
       "1                             95                           143   \n",
       "2                             54                            79   \n",
       "3                            102                           146   \n",
       "4                             56                            70   \n",
       "\n",
       "   TotalServicePointsWonPercentage  \n",
       "0                               66  \n",
       "1                               66  \n",
       "2                               68  \n",
       "3                               70  \n",
       "4                               80  \n",
       "\n",
       "[5 rows x 41 columns]"
      ]
     },
     "execution_count": 5,
     "metadata": {},
     "output_type": "execute_result"
    }
   ],
   "source": [
    "roger.head()"
   ]
  },
  {
   "cell_type": "code",
   "execution_count": 6,
   "metadata": {
    "ExecuteTime": {
     "end_time": "2017-03-01T00:03:38.867746",
     "start_time": "2017-03-01T00:03:38.823352"
    }
   },
   "outputs": [
    {
     "data": {
      "text/html": [
       "<div>\n",
       "<table border=\"1\" class=\"dataframe\">\n",
       "  <thead>\n",
       "    <tr style=\"text-align: right;\">\n",
       "      <th></th>\n",
       "      <th>MatchID</th>\n",
       "      <th>Aces</th>\n",
       "      <th>AcesPercentage</th>\n",
       "      <th>BreakPointsConvertedDividend</th>\n",
       "      <th>BreakPointsConvertedDivisor</th>\n",
       "      <th>BreakPointsConvertedPercentage</th>\n",
       "      <th>BreakPointsSavedDividend</th>\n",
       "      <th>BreakPointsSavedDivisor</th>\n",
       "      <th>BreakPointsSavedPercentage</th>\n",
       "      <th>DoubleFaults</th>\n",
       "      <th>...</th>\n",
       "      <th>Time</th>\n",
       "      <th>TotalPointsWonDividend</th>\n",
       "      <th>TotalPointsWonDivisor</th>\n",
       "      <th>TotalPointsWonPercentage</th>\n",
       "      <th>TotalReturnPointsWonDividend</th>\n",
       "      <th>TotalReturnPointsWonDivisor</th>\n",
       "      <th>TotalReturnPointsWonPercentage</th>\n",
       "      <th>TotalServicePointsWonDividend</th>\n",
       "      <th>TotalServicePointsWonDivisor</th>\n",
       "      <th>TotalServicePointsWonPercentage</th>\n",
       "    </tr>\n",
       "  </thead>\n",
       "  <tbody>\n",
       "    <tr>\n",
       "      <th>0</th>\n",
       "      <td>0</td>\n",
       "      <td>4</td>\n",
       "      <td>16.6667</td>\n",
       "      <td>4</td>\n",
       "      <td>17</td>\n",
       "      <td>24</td>\n",
       "      <td>14</td>\n",
       "      <td>20</td>\n",
       "      <td>70</td>\n",
       "      <td>3</td>\n",
       "      <td>...</td>\n",
       "      <td>00:00:00</td>\n",
       "      <td>139</td>\n",
       "      <td>289</td>\n",
       "      <td>48</td>\n",
       "      <td>47</td>\n",
       "      <td>138</td>\n",
       "      <td>34</td>\n",
       "      <td>92</td>\n",
       "      <td>151</td>\n",
       "      <td>61</td>\n",
       "    </tr>\n",
       "    <tr>\n",
       "      <th>1</th>\n",
       "      <td>2</td>\n",
       "      <td>10</td>\n",
       "      <td>47.619</td>\n",
       "      <td>4</td>\n",
       "      <td>12</td>\n",
       "      <td>33</td>\n",
       "      <td>5</td>\n",
       "      <td>9</td>\n",
       "      <td>56</td>\n",
       "      <td>2</td>\n",
       "      <td>...</td>\n",
       "      <td>00:00:00</td>\n",
       "      <td>136</td>\n",
       "      <td>278</td>\n",
       "      <td>49</td>\n",
       "      <td>48</td>\n",
       "      <td>143</td>\n",
       "      <td>34</td>\n",
       "      <td>88</td>\n",
       "      <td>135</td>\n",
       "      <td>65</td>\n",
       "    </tr>\n",
       "    <tr>\n",
       "      <th>2</th>\n",
       "      <td>5</td>\n",
       "      <td>5</td>\n",
       "      <td>35.7143</td>\n",
       "      <td>1</td>\n",
       "      <td>2</td>\n",
       "      <td>50</td>\n",
       "      <td>9</td>\n",
       "      <td>15</td>\n",
       "      <td>60</td>\n",
       "      <td>0</td>\n",
       "      <td>...</td>\n",
       "      <td>00:00:00</td>\n",
       "      <td>76</td>\n",
       "      <td>176</td>\n",
       "      <td>43</td>\n",
       "      <td>25</td>\n",
       "      <td>79</td>\n",
       "      <td>32</td>\n",
       "      <td>51</td>\n",
       "      <td>97</td>\n",
       "      <td>53</td>\n",
       "    </tr>\n",
       "    <tr>\n",
       "      <th>3</th>\n",
       "      <td>9</td>\n",
       "      <td>4</td>\n",
       "      <td>14.2857</td>\n",
       "      <td>3</td>\n",
       "      <td>9</td>\n",
       "      <td>33</td>\n",
       "      <td>11</td>\n",
       "      <td>18</td>\n",
       "      <td>61</td>\n",
       "      <td>5</td>\n",
       "      <td>...</td>\n",
       "      <td>00:00:00</td>\n",
       "      <td>141</td>\n",
       "      <td>310</td>\n",
       "      <td>45</td>\n",
       "      <td>44</td>\n",
       "      <td>146</td>\n",
       "      <td>30</td>\n",
       "      <td>97</td>\n",
       "      <td>164</td>\n",
       "      <td>59</td>\n",
       "    </tr>\n",
       "    <tr>\n",
       "      <th>4</th>\n",
       "      <td>14</td>\n",
       "      <td>12</td>\n",
       "      <td>60</td>\n",
       "      <td>0</td>\n",
       "      <td>0</td>\n",
       "      <td>0</td>\n",
       "      <td>1</td>\n",
       "      <td>5</td>\n",
       "      <td>20</td>\n",
       "      <td>3</td>\n",
       "      <td>...</td>\n",
       "      <td>00:00:00</td>\n",
       "      <td>66</td>\n",
       "      <td>151</td>\n",
       "      <td>44</td>\n",
       "      <td>14</td>\n",
       "      <td>70</td>\n",
       "      <td>20</td>\n",
       "      <td>52</td>\n",
       "      <td>81</td>\n",
       "      <td>64</td>\n",
       "    </tr>\n",
       "  </tbody>\n",
       "</table>\n",
       "<p>5 rows × 41 columns</p>\n",
       "</div>"
      ],
      "text/plain": [
       "   MatchID  Aces AcesPercentage  BreakPointsConvertedDividend  \\\n",
       "0        0     4        16.6667                             4   \n",
       "1        2    10         47.619                             4   \n",
       "2        5     5        35.7143                             1   \n",
       "3        9     4        14.2857                             3   \n",
       "4       14    12             60                             0   \n",
       "\n",
       "   BreakPointsConvertedDivisor  BreakPointsConvertedPercentage  \\\n",
       "0                           17                              24   \n",
       "1                           12                              33   \n",
       "2                            2                              50   \n",
       "3                            9                              33   \n",
       "4                            0                               0   \n",
       "\n",
       "   BreakPointsSavedDividend  BreakPointsSavedDivisor  \\\n",
       "0                        14                       20   \n",
       "1                         5                        9   \n",
       "2                         9                       15   \n",
       "3                        11                       18   \n",
       "4                         1                        5   \n",
       "\n",
       "   BreakPointsSavedPercentage  DoubleFaults               ...                 \\\n",
       "0                          70             3               ...                  \n",
       "1                          56             2               ...                  \n",
       "2                          60             0               ...                  \n",
       "3                          61             5               ...                  \n",
       "4                          20             3               ...                  \n",
       "\n",
       "       Time  TotalPointsWonDividend  TotalPointsWonDivisor  \\\n",
       "0  00:00:00                     139                    289   \n",
       "1  00:00:00                     136                    278   \n",
       "2  00:00:00                      76                    176   \n",
       "3  00:00:00                     141                    310   \n",
       "4  00:00:00                      66                    151   \n",
       "\n",
       "   TotalPointsWonPercentage  TotalReturnPointsWonDividend  \\\n",
       "0                        48                            47   \n",
       "1                        49                            48   \n",
       "2                        43                            25   \n",
       "3                        45                            44   \n",
       "4                        44                            14   \n",
       "\n",
       "   TotalReturnPointsWonDivisor  TotalReturnPointsWonPercentage  \\\n",
       "0                          138                              34   \n",
       "1                          143                              34   \n",
       "2                           79                              32   \n",
       "3                          146                              30   \n",
       "4                           70                              20   \n",
       "\n",
       "   TotalServicePointsWonDividend  TotalServicePointsWonDivisor  \\\n",
       "0                             92                           151   \n",
       "1                             88                           135   \n",
       "2                             51                            97   \n",
       "3                             97                           164   \n",
       "4                             52                            81   \n",
       "\n",
       "   TotalServicePointsWonPercentage  \n",
       "0                               61  \n",
       "1                               65  \n",
       "2                               53  \n",
       "3                               59  \n",
       "4                               64  \n",
       "\n",
       "[5 rows x 41 columns]"
      ]
     },
     "execution_count": 6,
     "metadata": {},
     "output_type": "execute_result"
    }
   ],
   "source": [
    "opp.head()"
   ]
  },
  {
   "cell_type": "markdown",
   "metadata": {},
   "source": [
    "The features I have chosen to use are:\n",
    "- __Aces__ : A legal serve not touched by the receiver\n",
    "- __DoubleFaults__ : Missing two serves in a row\n",
    "- __BreakPointsConvertedPercentage__ : The percentage of break points won while receiving.\n",
    "- __BreakPointsSavedPercentage__ : The percentage of break points won while serving\n",
    "- __FirstServePercentage__ : The percentage of first serves that were put into play\n",
    "- __FirstServePointsWonPercentage__ : The percentage of points won when the first serve goes in while serving.\n",
    "- __FirstServeReturnPointsPercentage__ : The percentage of points won when the opponent gets the first serve in.\n",
    "- __SecondServePointsWonPercentage__ : The percentage of points won when the second serve goes in while serving.\n",
    "- __SecondServePointsPercentage__ : The percentage of points won when the opponent gets the second serve in."
   ]
  },
  {
   "cell_type": "markdown",
   "metadata": {},
   "source": [
    "## Normalizing the data\n",
    "Before using these columns, a little bit of processing needs to be done. \n",
    "The length of a tennis match can vary widely. \n",
    "Therefore, we must normalize some of these columns with respect to the length of the match.\n",
    "\n",
    "- __AcesPct__ = Aces/TotalServicePoints\n",
    "    - The percentage of points that were won on an ace.\n",
    "- __DoubleFaultsPct__ = DoubleFaults/TotalServicePoints\n",
    "    - The percentage of points that were lost on a double fault.\n",
    "- __TotBrkPtsForcedPct__ = BreakPointsConvertedDivisor/TotalReturnPoints\n",
    "    - The percentage of points when returning serve that were break points.\n",
    "- __TotBrkPtsFacedPct__ = BreakPointsSavedDivsor/TotalServePoints\n",
    "    - The percentage of points when serving that were break points."
   ]
  },
  {
   "cell_type": "code",
   "execution_count": 7,
   "metadata": {
    "ExecuteTime": {
     "end_time": "2017-03-01T00:03:41.544206",
     "start_time": "2017-03-01T00:03:41.531430"
    },
    "collapsed": true
   },
   "outputs": [],
   "source": [
    "for df in [roger, opp]:\n",
    "    df[\"AcesPct\"] = df.Aces/df.TotalServicePointsWonDivisor*100\n",
    "    df[\"DoubleFaultsPct\"] = df.DoubleFaults/df.TotalServicePointsWonDivisor*100\n",
    "    df[\"TotBrkPtsForcedPct\"] = df.BreakPointsConvertedDivisor/df.TotalReturnPointsWonDivisor*100\n",
    "    df[\"TotBrkPtsFacedPct\"] = df.BreakPointsSavedDivisor/df.TotalServicePointsWonDivisor*100"
   ]
  },
  {
   "cell_type": "markdown",
   "metadata": {
    "ExecuteTime": {
     "end_time": "2017-02-28T23:02:00.807735",
     "start_time": "2017-02-28T23:02:00.802182"
    }
   },
   "source": [
    "Now I trim my data down to the columns mentioned above. These columns exist in the `roger` table and in the `opp` table."
   ]
  },
  {
   "cell_type": "code",
   "execution_count": 8,
   "metadata": {
    "ExecuteTime": {
     "end_time": "2017-03-01T00:03:42.380931",
     "start_time": "2017-03-01T00:03:42.371975"
    }
   },
   "outputs": [],
   "source": [
    "col = ['AcesPct', 'DoubleFaultsPct', 'BreakPointsConvertedPercentage',\n",
    "       'BreakPointsSavedPercentage', 'TotBrkPtsForcedPct', 'TotBrkPtsFacedPct',\n",
    "       'FirstServePercentage', 'FirstServePointsWonPercentage', \n",
    "       'FirstServeReturnPointsPercentage', 'SecondServePointsPercentage', \n",
    "       'SecondServePointsWonPercentage']\n",
    "\n",
    "roger_trimmed = roger[col]\n",
    "opp_trimmed = opp[col]"
   ]
  },
  {
   "cell_type": "markdown",
   "metadata": {},
   "source": [
    "To be able to distinguish between Roger's stats and his opponent's\n",
    "stats, I will prepend `\"opp_\"` to all the column names."
   ]
  },
  {
   "cell_type": "code",
   "execution_count": 9,
   "metadata": {
    "ExecuteTime": {
     "end_time": "2017-03-01T00:03:44.047906",
     "start_time": "2017-03-01T00:03:44.044185"
    }
   },
   "outputs": [],
   "source": [
    "opp_trimmed.columns = ['opp_'+c for c in col]"
   ]
  },
  {
   "cell_type": "markdown",
   "metadata": {},
   "source": [
    "Now I will combine all of Roger's stats and all his opponent's stats into one table."
   ]
  },
  {
   "cell_type": "code",
   "execution_count": 10,
   "metadata": {
    "ExecuteTime": {
     "end_time": "2017-03-01T00:03:45.315536",
     "start_time": "2017-03-01T00:03:45.261033"
    }
   },
   "outputs": [
    {
     "data": {
      "text/html": [
       "<div>\n",
       "<table border=\"1\" class=\"dataframe\">\n",
       "  <thead>\n",
       "    <tr style=\"text-align: right;\">\n",
       "      <th></th>\n",
       "      <th>AcesPct</th>\n",
       "      <th>DoubleFaultsPct</th>\n",
       "      <th>BreakPointsConvertedPercentage</th>\n",
       "      <th>BreakPointsSavedPercentage</th>\n",
       "      <th>TotBrkPtsForcedPct</th>\n",
       "      <th>TotBrkPtsFacedPct</th>\n",
       "      <th>FirstServePercentage</th>\n",
       "      <th>FirstServePointsWonPercentage</th>\n",
       "      <th>FirstServeReturnPointsPercentage</th>\n",
       "      <th>SecondServePointsPercentage</th>\n",
       "      <th>...</th>\n",
       "      <th>opp_DoubleFaultsPct</th>\n",
       "      <th>opp_BreakPointsConvertedPercentage</th>\n",
       "      <th>opp_BreakPointsSavedPercentage</th>\n",
       "      <th>opp_TotBrkPtsForcedPct</th>\n",
       "      <th>opp_TotBrkPtsFacedPct</th>\n",
       "      <th>opp_FirstServePercentage</th>\n",
       "      <th>opp_FirstServePointsWonPercentage</th>\n",
       "      <th>opp_FirstServeReturnPointsPercentage</th>\n",
       "      <th>opp_SecondServePointsPercentage</th>\n",
       "      <th>opp_SecondServePointsWonPercentage</th>\n",
       "    </tr>\n",
       "  </thead>\n",
       "  <tbody>\n",
       "    <tr>\n",
       "      <th>0</th>\n",
       "      <td>14.492754</td>\n",
       "      <td>2.173913</td>\n",
       "      <td>30</td>\n",
       "      <td>76</td>\n",
       "      <td>13.245033</td>\n",
       "      <td>12.318841</td>\n",
       "      <td>62</td>\n",
       "      <td>76</td>\n",
       "      <td>37</td>\n",
       "      <td>44</td>\n",
       "      <td>...</td>\n",
       "      <td>1.986755</td>\n",
       "      <td>24</td>\n",
       "      <td>70</td>\n",
       "      <td>12.318841</td>\n",
       "      <td>13.245033</td>\n",
       "      <td>73</td>\n",
       "      <td>63</td>\n",
       "      <td>24</td>\n",
       "      <td>51</td>\n",
       "      <td>56</td>\n",
       "    </tr>\n",
       "    <tr>\n",
       "      <th>1</th>\n",
       "      <td>7.692308</td>\n",
       "      <td>2.097902</td>\n",
       "      <td>44</td>\n",
       "      <td>67</td>\n",
       "      <td>6.666667</td>\n",
       "      <td>8.391608</td>\n",
       "      <td>60</td>\n",
       "      <td>72</td>\n",
       "      <td>37</td>\n",
       "      <td>30</td>\n",
       "      <td>...</td>\n",
       "      <td>1.481481</td>\n",
       "      <td>33</td>\n",
       "      <td>56</td>\n",
       "      <td>8.391608</td>\n",
       "      <td>6.666667</td>\n",
       "      <td>66</td>\n",
       "      <td>63</td>\n",
       "      <td>28</td>\n",
       "      <td>42</td>\n",
       "      <td>70</td>\n",
       "    </tr>\n",
       "    <tr>\n",
       "      <th>2</th>\n",
       "      <td>11.392405</td>\n",
       "      <td>1.265823</td>\n",
       "      <td>40</td>\n",
       "      <td>50</td>\n",
       "      <td>15.463918</td>\n",
       "      <td>2.531646</td>\n",
       "      <td>70</td>\n",
       "      <td>69</td>\n",
       "      <td>47</td>\n",
       "      <td>48</td>\n",
       "      <td>...</td>\n",
       "      <td>0.000000</td>\n",
       "      <td>50</td>\n",
       "      <td>60</td>\n",
       "      <td>2.531646</td>\n",
       "      <td>15.463918</td>\n",
       "      <td>74</td>\n",
       "      <td>53</td>\n",
       "      <td>31</td>\n",
       "      <td>33</td>\n",
       "      <td>52</td>\n",
       "    </tr>\n",
       "    <tr>\n",
       "      <th>3</th>\n",
       "      <td>16.438356</td>\n",
       "      <td>4.109589</td>\n",
       "      <td>39</td>\n",
       "      <td>67</td>\n",
       "      <td>10.975610</td>\n",
       "      <td>6.164384</td>\n",
       "      <td>67</td>\n",
       "      <td>81</td>\n",
       "      <td>32</td>\n",
       "      <td>58</td>\n",
       "      <td>...</td>\n",
       "      <td>3.048780</td>\n",
       "      <td>33</td>\n",
       "      <td>61</td>\n",
       "      <td>6.164384</td>\n",
       "      <td>10.975610</td>\n",
       "      <td>65</td>\n",
       "      <td>68</td>\n",
       "      <td>19</td>\n",
       "      <td>52</td>\n",
       "      <td>42</td>\n",
       "    </tr>\n",
       "    <tr>\n",
       "      <th>4</th>\n",
       "      <td>11.428571</td>\n",
       "      <td>2.857143</td>\n",
       "      <td>80</td>\n",
       "      <td>0</td>\n",
       "      <td>6.172840</td>\n",
       "      <td>0.000000</td>\n",
       "      <td>59</td>\n",
       "      <td>95</td>\n",
       "      <td>17</td>\n",
       "      <td>69</td>\n",
       "      <td>...</td>\n",
       "      <td>3.703704</td>\n",
       "      <td>0</td>\n",
       "      <td>20</td>\n",
       "      <td>0.000000</td>\n",
       "      <td>6.172840</td>\n",
       "      <td>64</td>\n",
       "      <td>83</td>\n",
       "      <td>5</td>\n",
       "      <td>41</td>\n",
       "      <td>31</td>\n",
       "    </tr>\n",
       "  </tbody>\n",
       "</table>\n",
       "<p>5 rows × 22 columns</p>\n",
       "</div>"
      ],
      "text/plain": [
       "     AcesPct  DoubleFaultsPct  BreakPointsConvertedPercentage  \\\n",
       "0  14.492754         2.173913                              30   \n",
       "1   7.692308         2.097902                              44   \n",
       "2  11.392405         1.265823                              40   \n",
       "3  16.438356         4.109589                              39   \n",
       "4  11.428571         2.857143                              80   \n",
       "\n",
       "   BreakPointsSavedPercentage  TotBrkPtsForcedPct  TotBrkPtsFacedPct  \\\n",
       "0                          76           13.245033          12.318841   \n",
       "1                          67            6.666667           8.391608   \n",
       "2                          50           15.463918           2.531646   \n",
       "3                          67           10.975610           6.164384   \n",
       "4                           0            6.172840           0.000000   \n",
       "\n",
       "   FirstServePercentage  FirstServePointsWonPercentage  \\\n",
       "0                    62                             76   \n",
       "1                    60                             72   \n",
       "2                    70                             69   \n",
       "3                    67                             81   \n",
       "4                    59                             95   \n",
       "\n",
       "   FirstServeReturnPointsPercentage  SecondServePointsPercentage  \\\n",
       "0                                37                           44   \n",
       "1                                37                           30   \n",
       "2                                47                           48   \n",
       "3                                32                           58   \n",
       "4                                17                           69   \n",
       "\n",
       "                  ...                  opp_DoubleFaultsPct  \\\n",
       "0                 ...                             1.986755   \n",
       "1                 ...                             1.481481   \n",
       "2                 ...                             0.000000   \n",
       "3                 ...                             3.048780   \n",
       "4                 ...                             3.703704   \n",
       "\n",
       "   opp_BreakPointsConvertedPercentage  opp_BreakPointsSavedPercentage  \\\n",
       "0                                  24                              70   \n",
       "1                                  33                              56   \n",
       "2                                  50                              60   \n",
       "3                                  33                              61   \n",
       "4                                   0                              20   \n",
       "\n",
       "   opp_TotBrkPtsForcedPct  opp_TotBrkPtsFacedPct  opp_FirstServePercentage  \\\n",
       "0               12.318841              13.245033                        73   \n",
       "1                8.391608               6.666667                        66   \n",
       "2                2.531646              15.463918                        74   \n",
       "3                6.164384              10.975610                        65   \n",
       "4                0.000000               6.172840                        64   \n",
       "\n",
       "   opp_FirstServePointsWonPercentage  opp_FirstServeReturnPointsPercentage  \\\n",
       "0                                 63                                    24   \n",
       "1                                 63                                    28   \n",
       "2                                 53                                    31   \n",
       "3                                 68                                    19   \n",
       "4                                 83                                     5   \n",
       "\n",
       "   opp_SecondServePointsPercentage  opp_SecondServePointsWonPercentage  \n",
       "0                               51                                  56  \n",
       "1                               42                                  70  \n",
       "2                               33                                  52  \n",
       "3                               52                                  42  \n",
       "4                               41                                  31  \n",
       "\n",
       "[5 rows x 22 columns]"
      ]
     },
     "execution_count": 10,
     "metadata": {},
     "output_type": "execute_result"
    }
   ],
   "source": [
    "df = pd.concat([roger_trimmed, opp_trimmed], axis=1)\n",
    "df.head()"
   ]
  },
  {
   "cell_type": "markdown",
   "metadata": {},
   "source": [
    "I now include the match results (found in the `match_overview` table) as the target of the classification."
   ]
  },
  {
   "cell_type": "code",
   "execution_count": 11,
   "metadata": {
    "ExecuteTime": {
     "end_time": "2017-03-01T00:03:46.661004",
     "start_time": "2017-03-01T00:03:46.651030"
    }
   },
   "outputs": [],
   "source": [
    "df['Result'] = match.Result\n",
    "df.Result.replace('W', 1, inplace=True)\n",
    "df.Result.replace('L', 0, inplace=True)\n",
    "df.Result = df.Result.astype(int)\n",
    "\n",
    "data = df.iloc[:,:-1]\n",
    "targets = df.iloc[:,-1]"
   ]
  },
  {
   "cell_type": "markdown",
   "metadata": {},
   "source": [
    "## Visualization\n",
    "The following plots help to visualize the difference in Roger's stats between when he wins vs when he loses. The histograms below have been normalized so that all the columns of each color add up to 1."
   ]
  },
  {
   "cell_type": "code",
   "execution_count": 24,
   "metadata": {
    "ExecuteTime": {
     "end_time": "2017-03-01T00:10:09.298635",
     "start_time": "2017-03-01T00:10:05.782999"
    },
    "scrolled": false
   },
   "outputs": [
    {
     "data": {
      "image/png": "[encoded data removed]",
      "text/plain": [
       "<matplotlib.figure.Figure at 0x115a3ac10>"
      ]
     },
     "metadata": {},
     "output_type": "display_data"
    },
    {
     "data": {
      "image/png": "[encoded data removed]",
      "text/plain": [
       "<matplotlib.figure.Figure at 0x1158ffed0>"
      ]
     },
     "metadata": {},
     "output_type": "display_data"
    },
    {
     "data": {
      "image/png": "[encoded data removed]",
      "text/plain": [
       "<matplotlib.figure.Figure at 0x1166308d0>"
      ]
     },
     "metadata": {},
     "output_type": "display_data"
    },
    {
     "data": {
      "image/png": "[encoded data removed]",
      "text/plain": [
       "<matplotlib.figure.Figure at 0x1160ddb50>"
      ]
     },
     "metadata": {},
     "output_type": "display_data"
    },
    {
     "data": {
      "image/png": "[encoded data removed]",
      "text/plain": [
       "<matplotlib.figure.Figure at 0x1160dded0>"
      ]
     },
     "metadata": {},
     "output_type": "display_data"
    },
    {
     "data": {
      "image/png": "[encoded data removed]",
      "text/plain": [
       "<matplotlib.figure.Figure at 0x115990650>"
      ]
     },
     "metadata": {},
     "output_type": "display_data"
    },
    {
     "data": {
      "image/png": "[encoded data removed]",
      "text/plain": [
       "<matplotlib.figure.Figure at 0x116634290>"
      ]
     },
     "metadata": {},
     "output_type": "display_data"
    },
    {
     "data": {
      "image/png": "[encoded data removed]",
      "text/plain": [
       "<matplotlib.figure.Figure at 0x115b26c50>"
      ]
     },
     "metadata": {},
     "output_type": "display_data"
    },
    {
     "data": {
      "image/png": "[encoded data removed]",
      "text/plain": [
       "<matplotlib.figure.Figure at 0x115ca0d50>"
      ]
     },
     "metadata": {},
     "output_type": "display_data"
    },
    {
     "data": {
      "image/png": "[encoded data removed]",
      "text/plain": [
       "<matplotlib.figure.Figure at 0x115c9a410>"
      ]
     },
     "metadata": {},
     "output_type": "display_data"
    },
    {
     "data": {
      "image/png": "[encoded data removed]",
      "text/plain": [
       "<matplotlib.figure.Figure at 0x1163fff50>"
      ]
     },
     "metadata": {},
     "output_type": "display_data"
    }
   ],
   "source": [
    "import matplotlib.pyplot as plt\n",
    "import seaborn\n",
    "\n",
    "for c in col:\n",
    "    wins = df[c][df.Result==1]\n",
    "    losses = df[c][df.Result==0]\n",
    "    \n",
    "    wins.hist(color='b', alpha=.5, weights=np.ones_like(wins)/len(wins), bins=np.linspace(0,df[c].max(),15), label=\"Won\")\n",
    "    losses.hist(color='r', alpha=.5, weights=np.ones_like(losses)/len(losses), bins=np.linspace(0,df[c].max(),15), label=\"Lost\")\n",
    "    plt.title(c, fontsize=15)\n",
    "    plt.legend(bbox_to_anchor=(1.15,.15))\n",
    "    plt.show()"
   ]
  },
  {
   "cell_type": "markdown",
   "metadata": {
    "ExecuteTime": {
     "end_time": "2017-02-28T22:05:29.878877",
     "start_time": "2017-02-28T22:05:29.873418"
    },
    "collapsed": true
   },
   "source": [
    "While there is some separation in each feature, there isn't one that clearly stands out as a good predictor. Therefore, we will turn to a subset of the classification algorithms we have learned in class this year."
   ]
  },
  {
   "cell_type": "markdown",
   "metadata": {},
   "source": [
    "## Developing the Model\n",
    "\n",
    "I will use the following functions to help me test my model as I refine it."
   ]
  },
  {
   "cell_type": "code",
   "execution_count": 24,
   "metadata": {
    "ExecuteTime": {
     "end_time": "2017-02-28T22:16:59.901573",
     "start_time": "2017-02-28T22:16:59.882690"
    },
    "collapsed": true
   },
   "outputs": [],
   "source": [
    "def test_model(model, features, target, iters=20):\n",
    "    \"\"\"\n",
    "    Test a decision tree model based on inputed data and target.\n",
    "    Print the average accuracy and average training time of the model.\n",
    "    \n",
    "    Inputs:\n",
    "        model - sklearn classifier object. Must have a 'fit' method and \n",
    "                a binary 'predict' method.\n",
    "        features - features of the data\n",
    "        target - target values for the data\n",
    "        iters (optional) - number of iterations to test model. \n",
    "            Defaults to 50.\n",
    "    \"\"\"\n",
    "    acc = []\n",
    "    t = []\n",
    "    for i in xrange(iters):\n",
    "        # create a new train-test split each iteration\n",
    "        Xtrain, Xtest, ytrain, ytest = train_test_split(features, target, train_size=.7)\n",
    "        \n",
    "        # fit and time\n",
    "        before = time.time()\n",
    "        tree.fit(Xtrain, ytrain)\n",
    "        after = time.time()\n",
    "        t.append(after-before)\n",
    "        \n",
    "        # calculate and store accuracy\n",
    "        print tree.predict(Xtest).mean()\n",
    "        acc.append((tree.predict(Xtest) == ytest).mean())\n",
    "    print \"Average accuracy rate:\", np.mean(acc)\n",
    "    print \"Average training time:\", np.mean(t)\n",
    "    \n",
    "def report(results, n_top=3):\n",
    "    \"\"\"\n",
    "    Reports the 'n_top' performers from grid search results.\n",
    "    \"\"\"\n",
    "    for i in range(1, n_top + 1):\n",
    "        candidates = np.flatnonzero(results['rank_test_score'] == i)\n",
    "        for candidate in candidates:\n",
    "            print(\"Model with rank: {0}\".format(i))\n",
    "            print(\"Mean validation score: {0:.3f} (std: {1:.3f})\".format(\n",
    "                  results['mean_test_score'][candidate],\n",
    "                  results['std_test_score'][candidate]))\n",
    "            print(\"Parameters: {0}\".format(results['params'][candidate]))\n",
    "            print(\"\")"
   ]
  },
  {
   "cell_type": "markdown",
   "metadata": {},
   "source": [
    "### Baseline Models"
   ]
  },
  {
   "cell_type": "code",
   "execution_count": 14,
   "metadata": {
    "ExecuteTime": {
     "end_time": "2017-02-28T22:05:33.154647",
     "start_time": "2017-02-28T22:05:32.762077"
    }
   },
   "outputs": [
    {
     "name": "stdout",
     "output_type": "stream",
     "text": [
      "Average misclassification rate: 0.146194225722\n",
      "Average training time: 0.0163799643517\n"
     ]
    }
   ],
   "source": [
    "lr = LogisticRegression()\n",
    "test_model(lr, data, targets)"
   ]
  },
  {
   "cell_type": "code",
   "execution_count": 15,
   "metadata": {
    "ExecuteTime": {
     "end_time": "2017-02-28T22:05:35.026369",
     "start_time": "2017-02-28T22:05:33.905166"
    }
   },
   "outputs": [
    {
     "name": "stdout",
     "output_type": "stream",
     "text": [
      "Average misclassification rate: 0.161679790026\n",
      "Average training time: 0.0465650677681\n"
     ]
    }
   ],
   "source": [
    "rfc = RandomForestClassifier()\n",
    "test_model(rfc, data, targets)"
   ]
  },
  {
   "cell_type": "code",
   "execution_count": 17,
   "metadata": {
    "ExecuteTime": {
     "end_time": "2017-02-28T22:06:02.930104",
     "start_time": "2017-02-28T22:05:39.253075"
    }
   },
   "outputs": [
    {
     "name": "stdout",
     "output_type": "stream",
     "text": [
      "Average misclassification rate: 0.17532808399\n",
      "Average training time: 4.72892465591\n"
     ]
    }
   ],
   "source": [
    "svm = SVC(kernel='linear')\n",
    "test_model(svm, data, targets, iters=5)"
   ]
  },
  {
   "cell_type": "code",
   "execution_count": 16,
   "metadata": {
    "ExecuteTime": {
     "end_time": "2017-02-28T22:05:37.738966",
     "start_time": "2017-02-28T22:05:35.857756"
    }
   },
   "outputs": [
    {
     "name": "stdout",
     "output_type": "stream",
     "text": [
      "Average misclassification rate: 0.145275590551\n",
      "Average training time: 0.0888205647469\n"
     ]
    }
   ],
   "source": [
    "xgb = XGBClassifier()\n",
    "test_model(xgb, data, targets)"
   ]
  },
  {
   "cell_type": "markdown",
   "metadata": {},
   "source": [
    "## Parameter Tuning\n",
    "This section will take a while to execute, so it is probably in your best interest not to try to duplicate the results here."
   ]
  },
  {
   "cell_type": "markdown",
   "metadata": {},
   "source": [
    "### Tune Logistic Regression"
   ]
  },
  {
   "cell_type": "code",
   "execution_count": 38,
   "metadata": {
    "ExecuteTime": {
     "end_time": "2017-02-28T22:30:36.575840",
     "start_time": "2017-02-28T22:30:34.926419"
    }
   },
   "outputs": [
    {
     "name": "stdout",
     "output_type": "stream",
     "text": [
      "Model with rank: 1\n",
      "Mean validation score: 0.845 (std: 0.016)\n",
      "Parameters: {'C': 5, 'class_weight': {0: 1}}\n",
      "\n",
      "Model with rank: 1\n",
      "Mean validation score: 0.845 (std: 0.016)\n",
      "Parameters: {'C': 7, 'class_weight': {0: 1}}\n",
      "\n"
     ]
    }
   ],
   "source": [
    "param_grid = {\n",
    "    'C':[.5,1,3,5,7], \n",
    "    'class_weight':[{0:1}, {0:1.25}, {0:1.5}, {0:1.75}, {0:2}]\n",
    "}\n",
    "\n",
    "grid_search = GridSearchCV(LogisticRegression(), param_grid)\n",
    "grid_search.fit(data, targets)\n",
    "report(grid_search.cv_results_, n_top=1)"
   ]
  },
  {
   "cell_type": "markdown",
   "metadata": {},
   "source": [
    "### Tune SVM"
   ]
  },
  {
   "cell_type": "code",
   "execution_count": 45,
   "metadata": {
    "ExecuteTime": {
     "end_time": "2017-02-28T23:02:00.800305",
     "start_time": "2017-02-28T22:51:40.699335"
    }
   },
   "outputs": [
    {
     "name": "stdout",
     "output_type": "stream",
     "text": [
      "Model with rank: 1\n",
      "Mean validation score: 0.844 (std: 0.015)\n",
      "Parameters: {'C': 7, 'class_weight': {0: 1.25}}\n",
      "\n"
     ]
    }
   ],
   "source": [
    "param_grid = {\n",
    "    'C':[.5,1,3,5,7], \n",
    "    'class_weight':[{0:1}, {0:1.25}, {0:1.5}, {0:1.75}, {0:2}]\n",
    "}\n",
    "grid_search = GridSearchCV(SVC(kernel='linear'), param_grid)\n",
    "grid_search.fit(data, targets)\n",
    "report(grid_search.cv_results_, n_top=1)"
   ]
  },
  {
   "cell_type": "markdown",
   "metadata": {},
   "source": [
    "### Tune Random Forest"
   ]
  },
  {
   "cell_type": "code",
   "execution_count": 48,
   "metadata": {
    "ExecuteTime": {
     "end_time": "2017-02-28T23:06:14.100918",
     "start_time": "2017-02-28T23:05:13.229806"
    }
   },
   "outputs": [
    {
     "name": "stdout",
     "output_type": "stream",
     "text": [
      "Model with rank: 1\n",
      "Mean validation score: 0.858 (std: 0.019)\n",
      "Parameters: {'n_estimators': 30, 'criterion': 'gini', 'max_depth': 5, 'min_samples_leaf': 3}\n",
      "\n"
     ]
    }
   ],
   "source": [
    "param_grid = {\n",
    "    'criterion':['entropy', 'gini'],\n",
    "    'n_estimators':[10,30,50],\n",
    "    'max_depth':[3,4,5,6,7],\n",
    "    'min_samples_leaf':[1,2,3,4]\n",
    "}\n",
    "grid_search = GridSearchCV(RandomForestClassifier(), param_grid)\n",
    "grid_search.fit(data, targets)\n",
    "report(grid_search.cv_results_, n_top=1)"
   ]
  },
  {
   "cell_type": "markdown",
   "metadata": {},
   "source": [
    "### Tune XGBoost\n",
    "Due to the large number of parameters in an XGBoost Classifier, I had to do the grid search in parts to make it the runtime reasonable."
   ]
  },
  {
   "cell_type": "code",
   "execution_count": 51,
   "metadata": {
    "ExecuteTime": {
     "end_time": "2017-02-28T23:35:22.827389",
     "start_time": "2017-02-28T23:35:18.373865"
    }
   },
   "outputs": [
    {
     "name": "stdout",
     "output_type": "stream",
     "text": [
      "Model with rank: 1\n",
      "Mean validation score: 0.853 (std: 0.024)\n",
      "Parameters: {'n_estimators': 175, 'max_depth': 2}\n",
      "\n"
     ]
    }
   ],
   "source": [
    "params = {\n",
    "    'n_estimators': [150, 175, 200], \n",
    "    'max_depth': [2,3,4]\n",
    "}\n",
    "\n",
    "grid_search = GridSearchCV(XGBClassifier(), params)\n",
    "grid_search.fit(data, targets)\n",
    "report(grid_search.cv_results_, n_top=1)"
   ]
  },
  {
   "cell_type": "code",
   "execution_count": 52,
   "metadata": {
    "ExecuteTime": {
     "end_time": "2017-02-28T23:36:33.310858",
     "start_time": "2017-02-28T23:36:29.223929"
    }
   },
   "outputs": [
    {
     "name": "stdout",
     "output_type": "stream",
     "text": [
      "Model with rank: 1\n",
      "Mean validation score: 0.857 (std: 0.020)\n",
      "Parameters: {'n_estimators': 175, 'learning_rate': 0.2, 'max_depth': 2, 'gamma': 0.7}\n",
      "\n"
     ]
    }
   ],
   "source": [
    "params = {\n",
    "    'n_estimators': [175], \n",
    "    'max_depth': [2],\n",
    "    'learning_rate':[0.05,0.1,0.2],\n",
    "    'gamma':[0.5, 0.7, 0.9, 1]\n",
    "}\n",
    "\n",
    "grid_search = GridSearchCV(XGBClassifier(), params)\n",
    "grid_search.fit(data, targets)\n",
    "report(grid_search.cv_results_, n_top=1)"
   ]
  },
  {
   "cell_type": "code",
   "execution_count": 53,
   "metadata": {
    "ExecuteTime": {
     "end_time": "2017-02-28T23:38:08.876585",
     "start_time": "2017-02-28T23:38:06.333530"
    }
   },
   "outputs": [
    {
     "name": "stdout",
     "output_type": "stream",
     "text": [
      "Model with rank: 1\n",
      "Mean validation score: 0.857 (std: 0.021)\n",
      "Parameters: {'colsample_bytree': 0.5, 'learning_rate': 0.2, 'n_estimators': 175, 'subsample': 1, 'max_depth': 2, 'gamma': 0.7}\n",
      "\n",
      "Model with rank: 1\n",
      "Mean validation score: 0.857 (std: 0.020)\n",
      "Parameters: {'colsample_bytree': 1, 'learning_rate': 0.2, 'n_estimators': 175, 'subsample': 1, 'max_depth': 2, 'gamma': 0.7}\n",
      "\n"
     ]
    }
   ],
   "source": [
    "params = {\n",
    "    'n_estimators': [175], \n",
    "    'max_depth': [2],\n",
    "    'learning_rate':[0.2],\n",
    "    'gamma':[0.7],\n",
    "    'colsample_bytree':[0.5,0.7,1],\n",
    "    'subsample':[0.5,0.7,1]\n",
    "}\n",
    "\n",
    "grid_search = GridSearchCV(XGBClassifier(), params)\n",
    "grid_search.fit(data, targets)\n",
    "report(grid_search.cv_results_, n_top=1)"
   ]
  },
  {
   "cell_type": "markdown",
   "metadata": {
    "ExecuteTime": {
     "end_time": "2017-02-28T23:34:17.658944",
     "start_time": "2017-02-28T23:34:17.655709"
    }
   },
   "source": [
    "## Final Models and Testing\n",
    "Now I create my final models using all the information gained from the grid searches above. While I recognize I didn't perform an exhaustive grid search by any means, it is clear that there was some improvement."
   ]
  },
  {
   "cell_type": "code",
   "execution_count": 54,
   "metadata": {
    "ExecuteTime": {
     "end_time": "2017-02-28T23:54:55.560612",
     "start_time": "2017-02-28T23:42:17.383533"
    }
   },
   "outputs": [
    {
     "name": "stdout",
     "output_type": "stream",
     "text": [
      "Logistic Regression:\t0.851916010499\n",
      "SVM with Linear Kernel:\t0.850078740157\n",
      "Random Forest:\t\t0.849081364829\n",
      "XGBoost Tree:\t\t0.858792650919\n",
      "XGBoost Tree (Tuned):\t0.855905511811\n",
      "Ensembled Model:\t0.862572178478\n"
     ]
    }
   ],
   "source": [
    "lr_list = []\n",
    "svm_list = []\n",
    "rfc_list = []\n",
    "xgb_list = []\n",
    "tuned_xgb_list = []\n",
    "ensembled_list = []\n",
    "\n",
    "lr = LogisticRegression(C=5)\n",
    "svm = SVC(kernel='linear', C=7, class_weight={0:1.25})\n",
    "rfc = RandomForestClassifier(n_estimators=30, criterion='gini', max_depth=5, min_samples_leaf=3)\n",
    "xgb = XGBClassifier(n_estimators=175, max_depth=2, gamma=.7, learning_rate=.2)\n",
    "\n",
    "for i in xrange(50):\n",
    "    Xtrain, Xtest, ytrain, ytest = train_test_split(data, targets, train_size=.7)\n",
    "    \n",
    "    lr.fit(Xtrain, ytrain)\n",
    "    svm.fit(Xtrain, ytrain)\n",
    "    rfc.fit(Xtrain, ytrain)\n",
    "    xgb.fit(Xtrain, ytrain)\n",
    "    tuned_xgb.fit(Xtrain, ytrain)\n",
    "    \n",
    "    lr_list.append((lr.predict(Xtest) == ytest).mean())\n",
    "    svm_list.append((svm.predict(Xtest) == ytest).mean())\n",
    "    rfc_list.append((rfc.predict(Xtest) == ytest).mean())\n",
    "    xgb_list.append((xgb.predict(Xtest) == ytest).mean())\n",
    "    tuned_xgb_list.append((tuned_xgb.predict(Xtest) == ytest).mean())\n",
    "    \n",
    "    ensembled_prediction = lr.predict(Xtest) + svm.predict(Xtest) + \\\n",
    "        rfc.predict(Xtest) + xgb.predict(Xtest) + tuned_xgb.predict(Xtest)\n",
    "    ensembled_prediction = .2*ensembled_prediction.copy()\n",
    "    \n",
    "    ensembled_list.append(((ensembled_prediction > .5).astype(int) == ytest).mean())\n",
    "    \n",
    "print \"Logistic Regression:\\t\", np.mean(lr_list)\n",
    "print \"SVM with Linear Kernel:\\t\", np.mean(svm_list)\n",
    "print \"Random Forest:\\t\\t\", np.mean(rfc_list)\n",
    "print \"XGBoost Tree:\\t\\t\", np.mean(xgb_list)\n",
    "print \"XGBoost Tree (Tuned):\\t\", np.mean(tuned_xgb_list)\n",
    "print \"Ensembled Model:\\t\", np.mean(ensembled_list)"
   ]
  },
  {
   "cell_type": "markdown",
   "metadata": {},
   "source": [
    "## Final Thoughts\n",
    "This is the first time I have utilized the power of ensembling multiple models. I was very pleased to see \n",
    "that it performed better than any individual model. This suggests that the models were each learning distinct\n",
    "features about the data.\n",
    "\n",
    "Roger Federer has won about 81% of his matches, therefore, 86.25% accuracy isn't a great classifier, but it is \n",
    "a decent start. \n",
    "Because most of the features I used were percentages, this model can be used as a simple predictor during \n",
    "a match to predict the final result.\n",
    "\n",
    "I hypothesize that other useful features would be:\n",
    "- Forehand winners\n",
    "- Backhand winners\n",
    "- Net Points\n",
    "- Forehand Unforced Errors\n",
    "- Backhand Unforced Errors\n",
    "\n",
    "\n",
    "These features are a better indicator of how each of the points ended. Therefore, it is a good metric for how \n",
    "the match is progressing at a lower level. Unfortunately, these features were not available on the website I scraped. In fact, I couldn't find detailed\n",
    "statistics in these categories in any public dataset online."
   ]
  }
 ],
 "metadata": {
  "anaconda-cloud": {},
  "hide_input": false,
  "kernelspec": {
   "display_name": "Python [default]",
   "language": "python",
   "name": "python2"
  },
  "language_info": {
   "codemirror_mode": {
    "name": "ipython",
    "version": 2
   },
   "file_extension": ".py",
   "mimetype": "text/x-python",
   "name": "python",
   "nbconvert_exporter": "python",
   "pygments_lexer": "ipython2",
   "version": "2.7.13"
  },
  "latex_envs": {
   "LaTeX_envs_menu_present": true,
   "bibliofile": "biblio.bib",
   "cite_by": "apalike",
   "current_citInitial": 1,
   "eqLabelWithNumbers": true,
   "eqNumInitial": 1,
   "labels_anchors": false,
   "latex_user_defs": false,
   "report_style_numbering": false,
   "user_envs_cfg": false
  }
 },
 "nbformat": 4,
 "nbformat_minor": 1
}
